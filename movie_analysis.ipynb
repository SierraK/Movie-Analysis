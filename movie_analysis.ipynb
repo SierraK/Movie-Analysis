{
 "cells": [
  {
   "cell_type": "markdown",
   "metadata": {},
   "source": [
    "# Analysis of Movies Before/After Release on Twitter"
   ]
  },
  {
   "cell_type": "markdown",
   "metadata": {},
   "source": [
    "The data is collected 3 days before the release of the movies and 3 days after the release of the movies. The movies selected are Captain Marvel, Gloria Bell, I'm Not Here, and Triple Frontier."
   ]
  },
  {
   "cell_type": "markdown",
   "metadata": {},
   "source": [
    "## Import Data"
   ]
  },
  {
   "cell_type": "code",
   "execution_count": 13,
   "metadata": {},
   "outputs": [],
   "source": [
    "import pickle\n",
    "import nltk\n",
    "import numpy as np\n",
    "from nltk.sentiment.vader import SentimentIntensityAnalyzer\n",
    "import matplotlib.pyplot as plt\n",
    "import re\n",
    "from PIL import Image\n",
    "from wordcloud import WordCloud, STOPWORDS\n",
    "from IPython.display import Image as im\n",
    "\n",
    "with open('pkl/gloria_bell.pkl', 'rb') as f:\n",
    "    gloria = pickle.load(f)\n",
    "    \n",
    "with open('pkl/captain_marvel_before.pkl', 'rb') as f:\n",
    "    captain = pickle.load(f) \n",
    "\n",
    "with open('pkl/triple_frontier.pkl', 'rb') as f:\n",
    "    frontier = pickle.load(f)\n",
    "\n",
    "with open('pkl/im_not_here.pkl', 'rb') as f:\n",
    "    here = pickle.load(f)\n",
    "\n",
    "with open('pkl/gloria_bell_after.pkl', 'rb') as f:\n",
    "    gloria_after = pickle.load(f)\n",
    "    \n",
    "with open('pkl/captain_marvel_after.pkl', 'rb') as f:\n",
    "    captain_after = pickle.load(f) \n",
    "\n",
    "with open('pkl/triple_frontier_after.pkl', 'rb') as f:\n",
    "    frontier_after = pickle.load(f)\n",
    "\n",
    "with open('pkl/im_not_here_after.pkl', 'rb') as f:\n",
    "    here_after = pickle.load(f)"
   ]
  },
  {
   "cell_type": "markdown",
   "metadata": {},
   "source": [
    "## Comparison of the Number of Tweets Before/After Release"
   ]
  },
  {
   "cell_type": "code",
   "execution_count": 15,
   "metadata": {},
   "outputs": [],
   "source": [
    "len_captainBefore = len(captain)\n",
    "len_gloriaBefore = len(gloria)\n",
    "len_tripleBefore = len(frontier)\n",
    "len_hereBefore = len(here)   \n",
    "    \n",
    "bar1 = [len_captainBefore, len_gloriaBefore, len_tripleBefore, len_hereBefore]\n",
    "bar2 = [len(captain_after), len(gloria_after), len(frontier_after), len(here_after)]\n",
    "barWidth = .35\n",
    " \n",
    "# Set position of bar on X axis\n",
    "r1 = np.arange(len(bar1))\n",
    "fig, ax = plt.subplots()\n",
    "\n",
    "# Make the plot\n",
    "before = ax.bar(r1, bar1, color= \"#00a8ff\", width=barWidth, edgecolor=\"#f1c40f\", label='Movies Before')\n",
    "after = ax.bar(r1 + barWidth, bar2, color= \"#e84118\", width=barWidth, edgecolor=\"#f1c40f\", label='Movies After')\n",
    "\n",
    "def label(rects):\n",
    "    for rect in rects:\n",
    "        height = rect.get_height()\n",
    "        plt.text(rect.get_x() + rect.get_width()/2., 1.05*height,\n",
    "                '%d' % int(height),\n",
    "                ha='center', va='bottom')\n",
    "\n",
    "ax.set_xlabel(\"Movies\")\n",
    "ax.set_ylabel(\"Number of Tweets\")\n",
    "ax.set_xticks(r1 + barWidth / 2)\n",
    "ax.set_xticklabels(('Captain Marvel', 'Gloria Bell', 'Triple Frontier', 'Im Not Here'))\n",
    "ax.margins(y = 0.1)\n",
    "ax.legend()\n",
    "\n",
    "label(before)\n",
    "label(after)\n",
    "plt.show()"
   ]
  },
  {
   "cell_type": "markdown",
   "metadata": {},
   "source": [
    "### Notes: \n",
    "Captain Marvel had the most tweets with Triple Frontier in second then Gloria Bell and lastly I'm Not Here"
   ]
  },
  {
   "cell_type": "markdown",
   "metadata": {},
   "source": [
    "## Cleaning Data for Word Cloud"
   ]
  },
  {
   "cell_type": "code",
   "execution_count": 19,
   "metadata": {},
   "outputs": [],
   "source": [
    "def clean(tweets):\n",
    "    clean_tweets = [tweet.text for tweet in tweets]\n",
    "\n",
    "# Getting rid of unicode, links, special characters\n",
    "    raw = ''.join(clean_tweets)\n",
    "    no_links = re.sub(r'http\\S+', '', raw)\n",
    "    no_unicode = re.sub(r\"\\\\[a-z][a-z]?[0-9]+\", '', no_links)\n",
    "    no_special_characters = re.sub('[^A-Za-z ]+', '', no_unicode)\n",
    "\n",
    "# Getting rid small filler words\n",
    "    clean_words = no_special_characters.split(\" \")\n",
    "    clean_words = [w for w in clean_words if len(w) > 3]\n",
    "    clean_words = [w.lower() for w in clean_words]\n",
    "    clean_words = [w for w in clean_words if w not in STOPWORDS]\n",
    "    return clean_words\n",
    "\n",
    "gloria_words = clean(gloria)\n",
    "gloria_words_after = clean(gloria_after)\n",
    "captain_words = clean(captain)\n",
    "captains_words = clean(captain_after)\n",
    "triple_words = clean(frontier)\n",
    "triple_words_after = clean(frontier_after)\n",
    "here_words = clean(here)\n",
    "here_words_after = clean(here_after)"
   ]
  },
  {
   "cell_type": "markdown",
   "metadata": {},
   "source": [
    "## Generate Word Cloud"
   ]
  },
  {
   "cell_type": "code",
   "execution_count": 47,
   "metadata": {},
   "outputs": [],
   "source": [
    "def word_cloud(tweets_before, tweets_after, message1, message2):\n",
    "    mask = np.array(Image.open('images/cloud.png'))\n",
    "    wc = WordCloud(background_color=\"white\", max_words=125, mask=mask)\n",
    "    wc2 = WordCloud(background_color=\"white\", max_words=125, mask=mask)\n",
    "    clean_string = ','.join(tweets_before)\n",
    "    clean_string2 = ','.join(tweets_after)\n",
    "    wc.generate(clean_string)\n",
    "    wc2.generate(clean_string2)\n",
    "\n",
    "    f = plt.figure(figsize=(50,50))\n",
    "    f.add_subplot(1,2,1)\n",
    "    plt.imshow(wc, interpolation='bilinear')\n",
    "    plt.title(message1, size=25)\n",
    "    plt.axis(\"off\")\n",
    "\n",
    "\n",
    "    f.add_subplot(1,2,2)\n",
    "    plt.imshow(wc2, interpolation='bilinear')\n",
    "    plt.title(message2, size=25)\n",
    "    plt.axis(\"off\")\n",
    "    plt.show()\n",
    "\n",
    "word_cloud(gloria_words, gloria_words_after, \"Gloria Bell Before\", \"Gloria Bell After\")\n",
    "word_cloud(captain_words, captains_words, \"Captain Marvel Before\", \"Captain Marvel After\")\n",
    "word_cloud(triple_words, triple_words_after, \"Triple Frontier Before\", \"Triple Frontier After\")\n",
    "word_cloud(here_words, here_words_after, \"I'm Not Here Before\", \"I'm Not Here After\")"
   ]
  },
  {
   "cell_type": "markdown",
   "metadata": {},
   "source": [
    "### Notes: \n",
    "The most common words in Captain Marvel in the before picture are marvel studio, captainmarvel, last night, and theater. The most common words in the after picture are follow original funko, higher faster, captainmarvel, and brielarson.\n",
    "\n",
    "The most common words in Gloria Bell in the before picture are gloriabell, opens, movie, nyla march, and juliannemoore. The most common words in the after picture are juliannemoore, academy awardwinning, great femaleled films, films century, and transcendently perfect.\n",
    "\n",
    "The most common words in Triple Frontier in the before picture are triplefrontier, charlie hunnam, carpet, reveals heist, and talk working. The most common words in the after picture are charlie hunnam, oscar isaac, triplefrontier, select theaters, and netflix select. \n",
    "\n",
    "There are not many most common words due to the fact it was not tweeted as much as the others but the most common words in I'm Not Here in the before picture are imnotheremovie, preorder tickets, tickets, and special screening. The most common words in the after picture are imnotheremovie, playing platforms, netowrk, fandangonwrt, and dish network."
   ]
  },
  {
   "cell_type": "markdown",
   "metadata": {},
   "source": [
    "## Sentiment Analysis"
   ]
  },
  {
   "cell_type": "code",
   "execution_count": 48,
   "metadata": {},
   "outputs": [],
   "source": [
    "def sentimentAnalyzer(tweets):\n",
    "    analyzer = SentimentIntensityAnalyzer()\n",
    "    summary = {\"positive\": 0, \"neutral\": 0, \"negative\": 0}\n",
    "    for i, t in enumerate(tweets):\n",
    "        text = t.text\n",
    "        ss = analyzer.polarity_scores(text)\n",
    "        if ss[\"compound\"] > -0.05 and ss[\"compound\"] < 0.05:\n",
    "            summary[\"neutral\"] += 1\n",
    "        elif ss[\"compound\"] > 0.05:\n",
    "            summary[\"positive\"] += 1\n",
    "        else:\n",
    "            summary[\"negative\"] += 1\n",
    "    return summary\n",
    "\n",
    "sentimentCaptainBefore = sentimentAnalyzer(captain)\n",
    "sentimentCaptainAfter = sentimentAnalyzer(captain_after)\n",
    "sentimentGloriaBefore = sentimentAnalyzer(gloria)\n",
    "sentimentGloriaAfter = sentimentAnalyzer(gloria_after)\n",
    "sentimentFrontierBefore = sentimentAnalyzer(frontier)\n",
    "sentimentFrontierAfter = sentimentAnalyzer(frontier_after)\n",
    "sentimentHereBefore = sentimentAnalyzer(here)\n",
    "sentimentHereAfter = sentimentAnalyzer(here_after)\n",
    "\n",
    "def pie_chart(tweetsBefore, tweets, message1, message2, color1, color2, color3):\n",
    "    sizes = [tweetsBefore[\"positive\"], tweetsBefore[\"negative\"], tweetsBefore[\"neutral\"]]\n",
    "    sizes2 = [tweets[\"positive\"], tweets[\"negative\"], tweets[\"neutral\"]]\n",
    "    names = ['Positive', 'Negative', 'Neutral']\n",
    "    colors = [color1, color2, color3]\n",
    "    explode = (0.05,0.05,0.05)\n",
    "    \n",
    "    fig, (ax1, ax2) = plt.subplots(1, 2)\n",
    "    ax1.pie(sizes, colors = colors, labels=names, autopct='%1.1f%%', startangle=90, pctdistance=0.85, explode = explode)\n",
    "    ax1.set_title(message1, size = 20)\n",
    "    ax2.pie(sizes2, colors = colors, labels=names, autopct='%1.1f%%', startangle=90, pctdistance=0.85, explode = explode)\n",
    "    ax2.set_title(message2, size = 20)\n",
    "    centre_circle = plt.Circle((0,0),0.70,fc='white')\n",
    "    fig = plt.gcf()\n",
    "    fig.gca().add_artist(centre_circle)\n",
    "    ax1.axis('equal') \n",
    "    ax2.axis('equal')\n",
    "    plt.tight_layout()\n",
    "    plt.show()\n",
    "    \n",
    "pie_chart(sentimentCaptainBefore, sentimentCaptainAfter, \"Captain Marvel Before\", \"Captain Marvel After\", '#E74C3C', '#3498DB', '#F1C40F')\n",
    "pie_chart(sentimentGloriaBefore, sentimentGloriaAfter, \"Gloria Bell Before\", \"Gloria Bell After\", '#8E44AD', '#3498DB', '#E67E22')\n",
    "pie_chart(sentimentFrontierBefore, sentimentFrontierAfter, \"Triple Frontier Before\", \"Triple Frontier After\", '#27AE60', '#2C3E50', '#1F618D')\n",
    "pie_chart(sentimentHereBefore, sentimentHereAfter, \"Im Not Here Before\", \"Im Not Here After\", '#CB4335', '#DC7633', '#1F618D')"
   ]
  },
  {
   "cell_type": "markdown",
   "metadata": {},
   "source": [
    "### Notes: \n",
    "Captain Marvel received more positive tweets after it was released. It also had a lower amount of negative tweets after release. \n",
    "\n",
    "Gloria Bell had fewer positive tweets after it was released and had a 12% increase in negative tweets. \n",
    "\n",
    "Triple Frontier had a lot of neutral tweets especially in the before release chart. The amount of negative tweets increased more than the amount of positive tweets after the movie was released. \n",
    "\n",
    "I'm Not Here also had a large amount of neutral tweets in the before release chart. It grew by a large amount in the positive number of tweets after it was released by around 50%. The amount of negative tweets increased by around 19%."
   ]
  },
  {
   "cell_type": "code",
   "execution_count": null,
   "metadata": {},
   "outputs": [],
   "source": []
  }
 ],
 "metadata": {
  "kernelspec": {
   "display_name": "Python 3 (Spyder)",
   "language": "python3",
   "name": "python3"
  },
  "language_info": {
   "codemirror_mode": {
    "name": "ipython",
    "version": 3
   },
   "file_extension": ".py",
   "mimetype": "text/x-python",
   "name": "python",
   "nbconvert_exporter": "python",
   "pygments_lexer": "ipython3",
   "version": "3.7.1"
  }
 },
 "nbformat": 4,
 "nbformat_minor": 2
}
